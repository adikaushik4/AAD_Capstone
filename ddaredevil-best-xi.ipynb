{
 "cells": [
  {
   "cell_type": "code",
   "execution_count": 1,
   "id": "b55d22ca",
   "metadata": {
    "_cell_guid": "b1076dfc-b9ad-4769-8c92-a6c4dae69d19",
    "_uuid": "8f2839f25d086af736a60e9eeb907d3b93b6e0e5",
    "collapsed": true,
    "execution": {
     "iopub.execute_input": "2025-06-07T11:55:51.712106Z",
     "iopub.status.busy": "2025-06-07T11:55:51.711270Z",
     "iopub.status.idle": "2025-06-07T11:55:53.926686Z",
     "shell.execute_reply": "2025-06-07T11:55:53.925666Z"
    },
    "jupyter": {
     "outputs_hidden": true
    },
    "papermill": {
     "duration": 2.225269,
     "end_time": "2025-06-07T11:55:53.928471",
     "exception": false,
     "start_time": "2025-06-07T11:55:51.703202",
     "status": "completed"
    },
    "tags": []
   },
   "outputs": [
    {
     "name": "stdout",
     "output_type": "stream",
     "text": [
      "/kaggle/input/pm-84603063-at-06-07-2025-11-55-10/__script__.py\n",
      "/kaggle/input/pm-84603063-at-06-07-2025-11-55-10/pandas-2.3.0-cp311-cp311-manylinux_2_17_x86_64.manylinux2014_x86_64.whl\n",
      "/kaggle/input/pm-84603063-at-06-07-2025-11-55-10/__results__.html\n",
      "/kaggle/input/pm-84603063-at-06-07-2025-11-55-10/PyYAML-6.0.2-cp311-cp311-manylinux_2_17_x86_64.manylinux2014_x86_64.whl\n",
      "/kaggle/input/pm-84603063-at-06-07-2025-11-55-10/pytz-2025.2-py2.py3-none-any.whl\n",
      "/kaggle/input/pm-84603063-at-06-07-2025-11-55-10/input_requirements.txt\n",
      "/kaggle/input/pm-84603063-at-06-07-2025-11-55-10/six-1.17.0-py2.py3-none-any.whl\n",
      "/kaggle/input/pm-84603063-at-06-07-2025-11-55-10/python_dateutil-2.9.0.post0-py2.py3-none-any.whl\n",
      "/kaggle/input/pm-84603063-at-06-07-2025-11-55-10/numpy-2.2.6-cp311-cp311-manylinux_2_17_x86_64.manylinux2014_x86_64.whl\n",
      "/kaggle/input/pm-84603063-at-06-07-2025-11-55-10/__script__.ipynb\n",
      "/kaggle/input/pm-84603063-at-06-07-2025-11-55-10/__output__.json\n",
      "/kaggle/input/pm-84603063-at-06-07-2025-11-55-10/install_requirements.sh\n",
      "/kaggle/input/pm-84603063-at-06-07-2025-11-55-10/tzdata-2025.2-py2.py3-none-any.whl\n",
      "/kaggle/input/pm-84603063-at-06-07-2025-11-55-10/custom.css\n",
      "/kaggle/input/dd-dream-team/dd_score_analysis/598067.yaml\n",
      "/kaggle/input/dd-dream-team/dd_score_analysis/419155.yaml\n",
      "/kaggle/input/dd-dream-team/dd_score_analysis/392183.yaml\n",
      "/kaggle/input/dd-dream-team/dd_score_analysis/548310.yaml\n",
      "/kaggle/input/dd-dream-team/dd_score_analysis/336022.yaml\n",
      "/kaggle/input/dd-dream-team/dd_score_analysis/501265.yaml\n",
      "/kaggle/input/dd-dream-team/dd_score_analysis/548357.yaml\n",
      "/kaggle/input/dd-dream-team/dd_score_analysis/598062.yaml\n",
      "/kaggle/input/dd-dream-team/dd_score_analysis/392237.yaml\n",
      "/kaggle/input/dd-dream-team/dd_score_analysis/392206.yaml\n",
      "/kaggle/input/dd-dream-team/dd_score_analysis/548329.yaml\n",
      "/kaggle/input/dd-dream-team/dd_score_analysis/419111.yaml\n",
      "/kaggle/input/dd-dream-team/dd_score_analysis/598044.yaml\n",
      "/kaggle/input/dd-dream-team/dd_score_analysis/392230.yaml\n",
      "/kaggle/input/dd-dream-team/dd_score_analysis/548364.yaml\n",
      "/kaggle/input/dd-dream-team/dd_score_analysis/501253.yaml\n",
      "/kaggle/input/dd-dream-team/dd_score_analysis/501216.yaml\n",
      "/kaggle/input/dd-dream-team/dd_score_analysis/392201.yaml\n",
      "/kaggle/input/dd-dream-team/dd_score_analysis/419149.yaml\n",
      "/kaggle/input/dd-dream-team/dd_score_analysis/548321.yaml\n",
      "/kaggle/input/dd-dream-team/dd_score_analysis/501246.yaml\n",
      "/kaggle/input/dd-dream-team/dd_score_analysis/548337.yaml\n",
      "/kaggle/input/dd-dream-team/dd_score_analysis/501204.yaml\n",
      "/kaggle/input/dd-dream-team/dd_score_analysis/501230.yaml\n",
      "/kaggle/input/dd-dream-team/dd_score_analysis/392235.yaml\n",
      "/kaggle/input/dd-dream-team/dd_score_analysis/598054.yaml\n",
      "/kaggle/input/dd-dream-team/dd_score_analysis/548333.yaml\n",
      "/kaggle/input/dd-dream-team/dd_score_analysis/548369.yaml\n",
      "/kaggle/input/dd-dream-team/dd_score_analysis/392223.yaml\n",
      "/kaggle/input/dd-dream-team/dd_score_analysis/548378.yaml\n",
      "/kaggle/input/dd-dream-team/dd_score_analysis/419140.yaml\n",
      "/kaggle/input/dd-dream-team/dd_score_analysis/335995.yaml\n",
      "/kaggle/input/dd-dream-team/dd_score_analysis/336020.yaml\n",
      "/kaggle/input/dd-dream-team/dd_score_analysis/336038.yaml\n",
      "/kaggle/input/dd-dream-team/dd_score_analysis/336026.yaml\n",
      "/kaggle/input/dd-dream-team/dd_score_analysis/419108.yaml\n",
      "/kaggle/input/dd-dream-team/dd_score_analysis/392226.yaml\n",
      "/kaggle/input/dd-dream-team/dd_score_analysis/335984.yaml\n",
      "/kaggle/input/dd-dream-team/dd_score_analysis/598010.yaml\n",
      "/kaggle/input/dd-dream-team/dd_score_analysis/501227.yaml\n",
      "/kaggle/input/dd-dream-team/dd_score_analysis/729281.yaml\n",
      "/kaggle/input/dd-dream-team/dd_score_analysis/598035.yaml\n",
      "/kaggle/input/dd-dream-team/dd_score_analysis/548345.yaml\n",
      "/kaggle/input/dd-dream-team/dd_score_analysis/335988.yaml\n",
      "/kaggle/input/dd-dream-team/dd_score_analysis/419134.yaml\n",
      "/kaggle/input/dd-dream-team/dd_score_analysis/548349.yaml\n",
      "/kaggle/input/dd-dream-team/dd_score_analysis/336032.yaml\n",
      "/kaggle/input/dd-dream-team/dd_score_analysis/419128.yaml\n",
      "/kaggle/input/dd-dream-team/dd_score_analysis/392211.yaml\n",
      "/kaggle/input/dd-dream-team/dd_score_analysis/597998.yaml\n",
      "/kaggle/input/dd-dream-team/dd_score_analysis/501243.yaml\n",
      "/kaggle/input/dd-dream-team/dd_score_analysis/548372.yaml\n",
      "/kaggle/input/dd-dream-team/dd_score_analysis/419116.yaml\n",
      "/kaggle/input/dd-dream-team/dd_score_analysis/336001.yaml\n",
      "/kaggle/input/dd-dream-team/dd_score_analysis/548325.yaml\n",
      "/kaggle/input/dd-dream-team/dd_score_analysis/392215.yaml\n",
      "/kaggle/input/dd-dream-team/dd_score_analysis/548380.yaml\n",
      "/kaggle/input/dd-dream-team/dd_score_analysis/419114.yaml\n",
      "/kaggle/input/dd-dream-team/dd_score_analysis/598001.yaml\n",
      "/kaggle/input/dd-dream-team/dd_score_analysis/501201.yaml\n",
      "/kaggle/input/dd-dream-team/dd_score_analysis/419160.yaml\n",
      "/kaggle/input/dd-dream-team/dd_score_analysis/548316.yaml\n",
      "/kaggle/input/dd-dream-team/dd_score_analysis/548342.yaml\n",
      "/kaggle/input/dd-dream-team/dd_score_analysis/336004.yaml\n",
      "/kaggle/input/dd-dream-team/dd_score_analysis/501233.yaml\n",
      "/kaggle/input/dd-dream-team/dd_score_analysis/419152.yaml\n",
      "/kaggle/input/dd-dream-team/dd_score_analysis/598024.yaml\n",
      "/kaggle/input/dd-dream-team/dd_score_analysis/548307.yaml\n",
      "/kaggle/input/dd-dream-team/dd_score_analysis/335998.yaml\n",
      "/kaggle/input/dd-dream-team/dd_score_analysis/501257.yaml\n",
      "/kaggle/input/dd-dream-team/dd_score_analysis/419144.yaml\n",
      "/kaggle/input/dd-dream-team/dd_score_analysis/598040.yaml\n",
      "/kaggle/input/dd-dream-team/dd_score_analysis/392194.yaml\n",
      "/kaggle/input/dd-dream-team/dd_score_analysis/392219.yaml\n",
      "/kaggle/input/dd-dream-team/dd_score_analysis/336009.yaml\n",
      "/kaggle/input/dd-dream-team/dd_score_analysis/598028.yaml\n",
      "/kaggle/input/dd-dream-team/dd_score_analysis/501223.yaml\n",
      "/kaggle/input/dd-dream-team/dd_score_analysis/501238.yaml\n",
      "/kaggle/input/dd-dream-team/dd_score_analysis/598059.yaml\n",
      "/kaggle/input/dd-dream-team/dd_score_analysis/392189.yaml\n",
      "/kaggle/input/dd-dream-team/dd_score_analysis/419131.yaml\n",
      "/kaggle/input/dd-dream-team/dd_score_analysis/598017.yaml\n",
      "/kaggle/input/dd-dream-team/dd_score_analysis/598006.yaml\n",
      "/kaggle/input/dd-dream-team/dd_score_analysis/598049.yaml\n",
      "/kaggle/input/dd-dream-team/dd_score_analysis/336017.yaml\n",
      "/kaggle/input/dd-dream-team/dd_score_analysis/598020.yaml\n",
      "/kaggle/input/dd-dream-team/dd_score_analysis/501213.yaml\n",
      "/kaggle/input/dd-dream-team/dd_score_analysis/392198.yaml\n",
      "/kaggle/input/dd-dream-team/dd_score_analysis/392232.yaml\n",
      "/kaggle/input/dd-dream-team/dd_score_analysis/548374.yaml\n",
      "/kaggle/input/dd-dream-team/dd_score_analysis/419120.yaml\n",
      "/kaggle/input/dd-dream-team/dd_score_analysis/336015.yaml\n"
     ]
    }
   ],
   "source": [
    "# This Python 3 environment comes with many helpful analytics libraries installed\n",
    "# It is defined by the kaggle/python Docker image: https://github.com/kaggle/docker-python\n",
    "# For example, here's several helpful packages to load\n",
    "\n",
    "import numpy as np # linear algebra\n",
    "import pandas as pd # data processing, CSV file I/O (e.g. pd.read_csv)\n",
    "\n",
    "# Input data files are available in the read-only \"../input/\" directory\n",
    "# For example, running this (by clicking run or pressing Shift+Enter) will list all files under the input directory\n",
    "\n",
    "import os\n",
    "for dirname, _, filenames in os.walk('/kaggle/input'):\n",
    "    for filename in filenames:\n",
    "        print(os.path.join(dirname, filename))\n",
    "\n",
    "# You can write up to 20GB to the current directory (/kaggle/working/) that gets preserved as output when you create a version using \"Save & Run All\" \n",
    "# You can also write temporary files to /kaggle/temp/, but they won't be saved outside of the current session"
   ]
  },
  {
   "cell_type": "code",
   "execution_count": null,
   "id": "8338dbbf",
   "metadata": {
    "papermill": {
     "duration": 0.005777,
     "end_time": "2025-06-07T11:55:53.941001",
     "exception": false,
     "start_time": "2025-06-07T11:55:53.935224",
     "status": "completed"
    },
    "tags": []
   },
   "outputs": [],
   "source": []
  },
  {
   "cell_type": "code",
   "execution_count": 2,
   "id": "277da2a5",
   "metadata": {
    "execution": {
     "iopub.execute_input": "2025-06-07T11:55:53.954565Z",
     "iopub.status.busy": "2025-06-07T11:55:53.954158Z",
     "iopub.status.idle": "2025-06-07T11:55:53.975461Z",
     "shell.execute_reply": "2025-06-07T11:55:53.974455Z"
    },
    "papermill": {
     "duration": 0.030064,
     "end_time": "2025-06-07T11:55:53.977228",
     "exception": false,
     "start_time": "2025-06-07T11:55:53.947164",
     "status": "completed"
    },
    "tags": []
   },
   "outputs": [],
   "source": [
    "# importing libraries\n",
    "import math\n",
    "import yaml\n"
   ]
  },
  {
   "cell_type": "code",
   "execution_count": 3,
   "id": "77db368a",
   "metadata": {
    "execution": {
     "iopub.execute_input": "2025-06-07T11:55:53.990799Z",
     "iopub.status.busy": "2025-06-07T11:55:53.990486Z",
     "iopub.status.idle": "2025-06-07T11:55:53.996875Z",
     "shell.execute_reply": "2025-06-07T11:55:53.996031Z"
    },
    "papermill": {
     "duration": 0.014978,
     "end_time": "2025-06-07T11:55:53.998496",
     "exception": false,
     "start_time": "2025-06-07T11:55:53.983518",
     "status": "completed"
    },
    "tags": []
   },
   "outputs": [
    {
     "name": "stdout",
     "output_type": "stream",
     "text": [
      "Total YAML files: 92\n"
     ]
    }
   ],
   "source": [
    "# path to uplaoded zip file\n",
    "\n",
    "data_path = \"/kaggle/input/dd-dream-team/dd_score_analysis\"\n",
    "\n",
    "# List YAML files\n",
    "yaml_files = [os.path.join(data_path, f) for f in os.listdir(data_path) if f.endswith(\".yaml\")]\n",
    "print(f\"Total YAML files: {len(yaml_files)}\")"
   ]
  },
  {
   "cell_type": "code",
   "execution_count": 4,
   "id": "a2fa261e",
   "metadata": {
    "execution": {
     "iopub.execute_input": "2025-06-07T11:55:54.013337Z",
     "iopub.status.busy": "2025-06-07T11:55:54.012613Z",
     "iopub.status.idle": "2025-06-07T11:55:54.191131Z",
     "shell.execute_reply": "2025-06-07T11:55:54.190041Z"
    },
    "papermill": {
     "duration": 0.187542,
     "end_time": "2025-06-07T11:55:54.192768",
     "exception": false,
     "start_time": "2025-06-07T11:55:54.005226",
     "status": "completed"
    },
    "tags": []
   },
   "outputs": [
    {
     "name": "stdout",
     "output_type": "stream",
     "text": [
      "dict_keys(['meta', 'info', 'innings'])\n"
     ]
    }
   ],
   "source": [
    "# load first file to inspect the structure\n",
    "with open(yaml_files[0])as file:\n",
    "    match = yaml.safe_load(file)\n",
    "print(match.keys())"
   ]
  },
  {
   "cell_type": "markdown",
   "id": "8abb7f23",
   "metadata": {
    "papermill": {
     "duration": 0.00579,
     "end_time": "2025-06-07T11:55:54.204875",
     "exception": false,
     "start_time": "2025-06-07T11:55:54.199085",
     "status": "completed"
    },
    "tags": []
   },
   "source": [
    "Extracting the data from the new yaml file\n"
   ]
  },
  {
   "cell_type": "code",
   "execution_count": 5,
   "id": "7d8fca45",
   "metadata": {
    "execution": {
     "iopub.execute_input": "2025-06-07T11:55:54.218154Z",
     "iopub.status.busy": "2025-06-07T11:55:54.217812Z",
     "iopub.status.idle": "2025-06-07T11:56:10.219564Z",
     "shell.execute_reply": "2025-06-07T11:56:10.218824Z"
    },
    "papermill": {
     "duration": 16.010283,
     "end_time": "2025-06-07T11:56:10.221200",
     "exception": false,
     "start_time": "2025-06-07T11:55:54.210917",
     "status": "completed"
    },
    "tags": []
   },
   "outputs": [],
   "source": [
    "all_data = []\n",
    "for file in yaml_files:\n",
    "    with open(file, 'r') as f:\n",
    "        match = yaml.safe_load(f)\n",
    "\n",
    "    match_info = match['info']\n",
    "    match_id = f\"{match_info['dates'][0]}, {match_info['venue']}\"\n",
    "    teams = match['info']['teams']\n",
    "\n",
    "    for inning in match['innings']:\n",
    "        inning_name = list(inning.keys())[0]\n",
    "        inning_data = inning[inning_name]\n",
    "        deliveries = inning_data['deliveries']\n",
    "        inning_number = 1 if inning_name == '1st innings' else 2\n",
    "        batting_team = inning_data['team']\n",
    "        bowling_team = teams[1] if teams[0] == batting_team else teams[0]\n",
    "    \n",
    "        for delivery in deliveries:\n",
    "            wicket_info = delivery.get('wicket', {})\n",
    "            dismissal_kind = wicket_info.get('kind', None)\n",
    "            ball_no = list(delivery.keys())[0]\n",
    "            delivery_data = delivery[ball_no]\n",
    "            wicket_info = delivery_data.get('wicket', {})\n",
    "            \n",
    "            row = {\n",
    "                \"match_id\": match_id,\n",
    "                \"inning\": inning_number,\n",
    "                \"over\": int(str(ball_no).split('.')[0]),\n",
    "                \"ball\": float(ball_no),\n",
    "                \"batting_team\": batting_team,\n",
    "                \"bowling_team\": bowling_team,\n",
    "                \"batsman\": delivery_data.get(\"batsman\"),\n",
    "                \"non_striker\": delivery_data.get(\"non_striker\"),\n",
    "                \"bowler\": delivery_data.get(\"bowler\"),\n",
    "                \"runs_batsman\": delivery_data[\"runs\"][\"batsman\"],\n",
    "                \"runs_extras\": delivery_data[\"runs\"][\"extras\"],\n",
    "                \"runs_total\": delivery_data[\"runs\"][\"total\"],\n",
    "                \"dismissal_kind\": dismissal_kind,\n",
    "                \"player_out\": wicket_info.get(\"player_out\", None)\n",
    "            }\n",
    "    \n",
    "            all_data.append(row)\n",
    "\n",
    "# Convert to DataFrame\n",
    "initial_df = pd.DataFrame(all_data)\n"
   ]
  },
  {
   "cell_type": "code",
   "execution_count": 6,
   "id": "293e6e3b",
   "metadata": {
    "execution": {
     "iopub.execute_input": "2025-06-07T11:56:10.234750Z",
     "iopub.status.busy": "2025-06-07T11:56:10.234445Z",
     "iopub.status.idle": "2025-06-07T11:56:10.264219Z",
     "shell.execute_reply": "2025-06-07T11:56:10.263373Z"
    },
    "papermill": {
     "duration": 0.037949,
     "end_time": "2025-06-07T11:56:10.265568",
     "exception": false,
     "start_time": "2025-06-07T11:56:10.227619",
     "status": "completed"
    },
    "tags": []
   },
   "outputs": [
    {
     "data": {
      "text/html": [
       "<div>\n",
       "<style scoped>\n",
       "    .dataframe tbody tr th:only-of-type {\n",
       "        vertical-align: middle;\n",
       "    }\n",
       "\n",
       "    .dataframe tbody tr th {\n",
       "        vertical-align: top;\n",
       "    }\n",
       "\n",
       "    .dataframe thead th {\n",
       "        text-align: right;\n",
       "    }\n",
       "</style>\n",
       "<table border=\"1\" class=\"dataframe\">\n",
       "  <thead>\n",
       "    <tr style=\"text-align: right;\">\n",
       "      <th></th>\n",
       "      <th>match_id</th>\n",
       "      <th>inning</th>\n",
       "      <th>over</th>\n",
       "      <th>ball</th>\n",
       "      <th>batting_team</th>\n",
       "      <th>bowling_team</th>\n",
       "      <th>batsman</th>\n",
       "      <th>non_striker</th>\n",
       "      <th>bowler</th>\n",
       "      <th>runs_batsman</th>\n",
       "      <th>runs_extras</th>\n",
       "      <th>runs_total</th>\n",
       "      <th>dismissal_kind</th>\n",
       "      <th>player_out</th>\n",
       "    </tr>\n",
       "  </thead>\n",
       "  <tbody>\n",
       "    <tr>\n",
       "      <th>21517</th>\n",
       "      <td>2008-05-11, Sawai Mansingh Stadium</td>\n",
       "      <td>2</td>\n",
       "      <td>18</td>\n",
       "      <td>18.3</td>\n",
       "      <td>Rajasthan Royals</td>\n",
       "      <td>Delhi Daredevils</td>\n",
       "      <td>M Rawat</td>\n",
       "      <td>Niraj Patel</td>\n",
       "      <td>MF Maharoof</td>\n",
       "      <td>0</td>\n",
       "      <td>0</td>\n",
       "      <td>0</td>\n",
       "      <td>None</td>\n",
       "      <td>None</td>\n",
       "    </tr>\n",
       "    <tr>\n",
       "      <th>21518</th>\n",
       "      <td>2008-05-11, Sawai Mansingh Stadium</td>\n",
       "      <td>2</td>\n",
       "      <td>18</td>\n",
       "      <td>18.4</td>\n",
       "      <td>Rajasthan Royals</td>\n",
       "      <td>Delhi Daredevils</td>\n",
       "      <td>M Rawat</td>\n",
       "      <td>Niraj Patel</td>\n",
       "      <td>MF Maharoof</td>\n",
       "      <td>0</td>\n",
       "      <td>0</td>\n",
       "      <td>0</td>\n",
       "      <td>None</td>\n",
       "      <td>None</td>\n",
       "    </tr>\n",
       "    <tr>\n",
       "      <th>21519</th>\n",
       "      <td>2008-05-11, Sawai Mansingh Stadium</td>\n",
       "      <td>2</td>\n",
       "      <td>18</td>\n",
       "      <td>18.5</td>\n",
       "      <td>Rajasthan Royals</td>\n",
       "      <td>Delhi Daredevils</td>\n",
       "      <td>M Rawat</td>\n",
       "      <td>Niraj Patel</td>\n",
       "      <td>MF Maharoof</td>\n",
       "      <td>1</td>\n",
       "      <td>0</td>\n",
       "      <td>1</td>\n",
       "      <td>None</td>\n",
       "      <td>None</td>\n",
       "    </tr>\n",
       "    <tr>\n",
       "      <th>21520</th>\n",
       "      <td>2008-05-11, Sawai Mansingh Stadium</td>\n",
       "      <td>2</td>\n",
       "      <td>18</td>\n",
       "      <td>18.6</td>\n",
       "      <td>Rajasthan Royals</td>\n",
       "      <td>Delhi Daredevils</td>\n",
       "      <td>Niraj Patel</td>\n",
       "      <td>M Rawat</td>\n",
       "      <td>MF Maharoof</td>\n",
       "      <td>4</td>\n",
       "      <td>0</td>\n",
       "      <td>4</td>\n",
       "      <td>None</td>\n",
       "      <td>None</td>\n",
       "    </tr>\n",
       "    <tr>\n",
       "      <th>21521</th>\n",
       "      <td>2008-05-11, Sawai Mansingh Stadium</td>\n",
       "      <td>2</td>\n",
       "      <td>19</td>\n",
       "      <td>19.1</td>\n",
       "      <td>Rajasthan Royals</td>\n",
       "      <td>Delhi Daredevils</td>\n",
       "      <td>M Rawat</td>\n",
       "      <td>Niraj Patel</td>\n",
       "      <td>VY Mahesh</td>\n",
       "      <td>4</td>\n",
       "      <td>0</td>\n",
       "      <td>4</td>\n",
       "      <td>None</td>\n",
       "      <td>None</td>\n",
       "    </tr>\n",
       "  </tbody>\n",
       "</table>\n",
       "</div>"
      ],
      "text/plain": [
       "                                 match_id  inning  over  ball  \\\n",
       "21517  2008-05-11, Sawai Mansingh Stadium       2    18  18.3   \n",
       "21518  2008-05-11, Sawai Mansingh Stadium       2    18  18.4   \n",
       "21519  2008-05-11, Sawai Mansingh Stadium       2    18  18.5   \n",
       "21520  2008-05-11, Sawai Mansingh Stadium       2    18  18.6   \n",
       "21521  2008-05-11, Sawai Mansingh Stadium       2    19  19.1   \n",
       "\n",
       "           batting_team      bowling_team      batsman  non_striker  \\\n",
       "21517  Rajasthan Royals  Delhi Daredevils      M Rawat  Niraj Patel   \n",
       "21518  Rajasthan Royals  Delhi Daredevils      M Rawat  Niraj Patel   \n",
       "21519  Rajasthan Royals  Delhi Daredevils      M Rawat  Niraj Patel   \n",
       "21520  Rajasthan Royals  Delhi Daredevils  Niraj Patel      M Rawat   \n",
       "21521  Rajasthan Royals  Delhi Daredevils      M Rawat  Niraj Patel   \n",
       "\n",
       "            bowler  runs_batsman  runs_extras  runs_total dismissal_kind  \\\n",
       "21517  MF Maharoof             0            0           0           None   \n",
       "21518  MF Maharoof             0            0           0           None   \n",
       "21519  MF Maharoof             1            0           1           None   \n",
       "21520  MF Maharoof             4            0           4           None   \n",
       "21521    VY Mahesh             4            0           4           None   \n",
       "\n",
       "      player_out  \n",
       "21517       None  \n",
       "21518       None  \n",
       "21519       None  \n",
       "21520       None  \n",
       "21521       None  "
      ]
     },
     "execution_count": 6,
     "metadata": {},
     "output_type": "execute_result"
    }
   ],
   "source": [
    "initial_df.tail()"
   ]
  },
  {
   "cell_type": "code",
   "execution_count": 7,
   "id": "72933de3",
   "metadata": {
    "execution": {
     "iopub.execute_input": "2025-06-07T11:56:10.279409Z",
     "iopub.status.busy": "2025-06-07T11:56:10.279121Z",
     "iopub.status.idle": "2025-06-07T11:56:10.306630Z",
     "shell.execute_reply": "2025-06-07T11:56:10.305749Z"
    },
    "papermill": {
     "duration": 0.036469,
     "end_time": "2025-06-07T11:56:10.308554",
     "exception": false,
     "start_time": "2025-06-07T11:56:10.272085",
     "status": "completed"
    },
    "tags": []
   },
   "outputs": [
    {
     "data": {
      "text/html": [
       "<div>\n",
       "<style scoped>\n",
       "    .dataframe tbody tr th:only-of-type {\n",
       "        vertical-align: middle;\n",
       "    }\n",
       "\n",
       "    .dataframe tbody tr th {\n",
       "        vertical-align: top;\n",
       "    }\n",
       "\n",
       "    .dataframe thead th {\n",
       "        text-align: right;\n",
       "    }\n",
       "</style>\n",
       "<table border=\"1\" class=\"dataframe\">\n",
       "  <thead>\n",
       "    <tr style=\"text-align: right;\">\n",
       "      <th></th>\n",
       "      <th>batting_team</th>\n",
       "      <th>bowling_team</th>\n",
       "    </tr>\n",
       "  </thead>\n",
       "  <tbody>\n",
       "    <tr>\n",
       "      <th>0</th>\n",
       "      <td>Pune Warriors</td>\n",
       "      <td>Delhi Daredevils</td>\n",
       "    </tr>\n",
       "    <tr>\n",
       "      <th>123</th>\n",
       "      <td>Delhi Daredevils</td>\n",
       "      <td>Pune Warriors</td>\n",
       "    </tr>\n",
       "    <tr>\n",
       "      <th>250</th>\n",
       "      <td>Chennai Super Kings</td>\n",
       "      <td>Delhi Daredevils</td>\n",
       "    </tr>\n",
       "    <tr>\n",
       "      <th>376</th>\n",
       "      <td>Delhi Daredevils</td>\n",
       "      <td>Chennai Super Kings</td>\n",
       "    </tr>\n",
       "    <tr>\n",
       "      <th>492</th>\n",
       "      <td>Kings XI Punjab</td>\n",
       "      <td>Delhi Daredevils</td>\n",
       "    </tr>\n",
       "  </tbody>\n",
       "</table>\n",
       "</div>"
      ],
      "text/plain": [
       "            batting_team         bowling_team\n",
       "0          Pune Warriors     Delhi Daredevils\n",
       "123     Delhi Daredevils        Pune Warriors\n",
       "250  Chennai Super Kings     Delhi Daredevils\n",
       "376     Delhi Daredevils  Chennai Super Kings\n",
       "492      Kings XI Punjab     Delhi Daredevils"
      ]
     },
     "execution_count": 7,
     "metadata": {},
     "output_type": "execute_result"
    }
   ],
   "source": [
    "initial_df[['batting_team', 'bowling_team']].drop_duplicates().head()"
   ]
  },
  {
   "cell_type": "markdown",
   "id": "8c5a28f1",
   "metadata": {
    "papermill": {
     "duration": 0.00614,
     "end_time": "2025-06-07T11:56:10.322239",
     "exception": false,
     "start_time": "2025-06-07T11:56:10.316099",
     "status": "completed"
    },
    "tags": []
   },
   "source": [
    "Now, that we have flat data we will do some EDA and inspect the data further."
   ]
  },
  {
   "cell_type": "code",
   "execution_count": 8,
   "id": "a5493b08",
   "metadata": {
    "execution": {
     "iopub.execute_input": "2025-06-07T11:56:10.336460Z",
     "iopub.status.busy": "2025-06-07T11:56:10.335790Z",
     "iopub.status.idle": "2025-06-07T11:56:10.342685Z",
     "shell.execute_reply": "2025-06-07T11:56:10.341958Z"
    },
    "papermill": {
     "duration": 0.015469,
     "end_time": "2025-06-07T11:56:10.344009",
     "exception": false,
     "start_time": "2025-06-07T11:56:10.328540",
     "status": "completed"
    },
    "tags": []
   },
   "outputs": [
    {
     "data": {
      "text/plain": [
       "match_id          2013-05-19, Subrata Roy Sahara Stadium\n",
       "inning                                                 1\n",
       "over                                                   1\n",
       "ball                                                 1.5\n",
       "batting_team                               Pune Warriors\n",
       "bowling_team                            Delhi Daredevils\n",
       "batsman                                         AJ Finch\n",
       "non_striker                                   RV Uthappa\n",
       "bowler                                          M Morkel\n",
       "runs_batsman                                           0\n",
       "runs_extras                                            0\n",
       "runs_total                                             0\n",
       "dismissal_kind                                      None\n",
       "player_out                                          None\n",
       "Name: 10, dtype: object"
      ]
     },
     "execution_count": 8,
     "metadata": {},
     "output_type": "execute_result"
    }
   ],
   "source": [
    "initial_df.loc[10]"
   ]
  },
  {
   "cell_type": "code",
   "execution_count": 9,
   "id": "04ee017a",
   "metadata": {
    "execution": {
     "iopub.execute_input": "2025-06-07T11:56:10.358377Z",
     "iopub.status.busy": "2025-06-07T11:56:10.358104Z",
     "iopub.status.idle": "2025-06-07T11:56:10.363838Z",
     "shell.execute_reply": "2025-06-07T11:56:10.363020Z"
    },
    "papermill": {
     "duration": 0.01445,
     "end_time": "2025-06-07T11:56:10.365176",
     "exception": false,
     "start_time": "2025-06-07T11:56:10.350726",
     "status": "completed"
    },
    "tags": []
   },
   "outputs": [
    {
     "data": {
      "text/plain": [
       "Index(['match_id', 'inning', 'over', 'ball', 'batting_team', 'bowling_team',\n",
       "       'batsman', 'non_striker', 'bowler', 'runs_batsman', 'runs_extras',\n",
       "       'runs_total', 'dismissal_kind', 'player_out'],\n",
       "      dtype='object')"
      ]
     },
     "execution_count": 9,
     "metadata": {},
     "output_type": "execute_result"
    }
   ],
   "source": [
    "initial_df.columns"
   ]
  },
  {
   "cell_type": "code",
   "execution_count": 10,
   "id": "91faa95f",
   "metadata": {
    "execution": {
     "iopub.execute_input": "2025-06-07T11:56:10.379479Z",
     "iopub.status.busy": "2025-06-07T11:56:10.379190Z",
     "iopub.status.idle": "2025-06-07T11:56:10.383192Z",
     "shell.execute_reply": "2025-06-07T11:56:10.382470Z"
    },
    "papermill": {
     "duration": 0.012723,
     "end_time": "2025-06-07T11:56:10.384570",
     "exception": false,
     "start_time": "2025-06-07T11:56:10.371847",
     "status": "completed"
    },
    "tags": []
   },
   "outputs": [],
   "source": [
    "# Checking the data \n",
    "first_innings = match['innings'][0][\"1st innings\"]\n",
    "# print(first_innings)\n"
   ]
  },
  {
   "cell_type": "code",
   "execution_count": 11,
   "id": "9f3631f2",
   "metadata": {
    "execution": {
     "iopub.execute_input": "2025-06-07T11:56:10.399700Z",
     "iopub.status.busy": "2025-06-07T11:56:10.399412Z",
     "iopub.status.idle": "2025-06-07T11:56:10.430492Z",
     "shell.execute_reply": "2025-06-07T11:56:10.429415Z"
    },
    "papermill": {
     "duration": 0.04028,
     "end_time": "2025-06-07T11:56:10.432015",
     "exception": false,
     "start_time": "2025-06-07T11:56:10.391735",
     "status": "completed"
    },
    "tags": []
   },
   "outputs": [
    {
     "data": {
      "text/html": [
       "<div>\n",
       "<style scoped>\n",
       "    .dataframe tbody tr th:only-of-type {\n",
       "        vertical-align: middle;\n",
       "    }\n",
       "\n",
       "    .dataframe tbody tr th {\n",
       "        vertical-align: top;\n",
       "    }\n",
       "\n",
       "    .dataframe thead th {\n",
       "        text-align: right;\n",
       "    }\n",
       "</style>\n",
       "<table border=\"1\" class=\"dataframe\">\n",
       "  <thead>\n",
       "    <tr style=\"text-align: right;\">\n",
       "      <th></th>\n",
       "      <th>inning</th>\n",
       "      <th>over</th>\n",
       "      <th>ball</th>\n",
       "      <th>runs_batsman</th>\n",
       "      <th>runs_extras</th>\n",
       "      <th>runs_total</th>\n",
       "    </tr>\n",
       "  </thead>\n",
       "  <tbody>\n",
       "    <tr>\n",
       "      <th>count</th>\n",
       "      <td>21522.000000</td>\n",
       "      <td>21522.000000</td>\n",
       "      <td>21522.000000</td>\n",
       "      <td>21522.000000</td>\n",
       "      <td>21522.000000</td>\n",
       "      <td>21522.000000</td>\n",
       "    </tr>\n",
       "    <tr>\n",
       "      <th>mean</th>\n",
       "      <td>1.479045</td>\n",
       "      <td>9.065050</td>\n",
       "      <td>9.426847</td>\n",
       "      <td>1.207183</td>\n",
       "      <td>0.070161</td>\n",
       "      <td>1.277344</td>\n",
       "    </tr>\n",
       "    <tr>\n",
       "      <th>std</th>\n",
       "      <td>0.499572</td>\n",
       "      <td>5.646762</td>\n",
       "      <td>5.646584</td>\n",
       "      <td>1.579061</td>\n",
       "      <td>0.355776</td>\n",
       "      <td>1.569651</td>\n",
       "    </tr>\n",
       "    <tr>\n",
       "      <th>min</th>\n",
       "      <td>1.000000</td>\n",
       "      <td>0.000000</td>\n",
       "      <td>0.100000</td>\n",
       "      <td>0.000000</td>\n",
       "      <td>0.000000</td>\n",
       "      <td>0.000000</td>\n",
       "    </tr>\n",
       "    <tr>\n",
       "      <th>25%</th>\n",
       "      <td>1.000000</td>\n",
       "      <td>4.000000</td>\n",
       "      <td>4.500000</td>\n",
       "      <td>0.000000</td>\n",
       "      <td>0.000000</td>\n",
       "      <td>0.000000</td>\n",
       "    </tr>\n",
       "    <tr>\n",
       "      <th>50%</th>\n",
       "      <td>1.000000</td>\n",
       "      <td>9.000000</td>\n",
       "      <td>9.300000</td>\n",
       "      <td>1.000000</td>\n",
       "      <td>0.000000</td>\n",
       "      <td>1.000000</td>\n",
       "    </tr>\n",
       "    <tr>\n",
       "      <th>75%</th>\n",
       "      <td>2.000000</td>\n",
       "      <td>14.000000</td>\n",
       "      <td>14.300000</td>\n",
       "      <td>1.000000</td>\n",
       "      <td>0.000000</td>\n",
       "      <td>1.000000</td>\n",
       "    </tr>\n",
       "    <tr>\n",
       "      <th>max</th>\n",
       "      <td>2.000000</td>\n",
       "      <td>19.000000</td>\n",
       "      <td>19.700000</td>\n",
       "      <td>6.000000</td>\n",
       "      <td>5.000000</td>\n",
       "      <td>7.000000</td>\n",
       "    </tr>\n",
       "  </tbody>\n",
       "</table>\n",
       "</div>"
      ],
      "text/plain": [
       "             inning          over          ball  runs_batsman   runs_extras  \\\n",
       "count  21522.000000  21522.000000  21522.000000  21522.000000  21522.000000   \n",
       "mean       1.479045      9.065050      9.426847      1.207183      0.070161   \n",
       "std        0.499572      5.646762      5.646584      1.579061      0.355776   \n",
       "min        1.000000      0.000000      0.100000      0.000000      0.000000   \n",
       "25%        1.000000      4.000000      4.500000      0.000000      0.000000   \n",
       "50%        1.000000      9.000000      9.300000      1.000000      0.000000   \n",
       "75%        2.000000     14.000000     14.300000      1.000000      0.000000   \n",
       "max        2.000000     19.000000     19.700000      6.000000      5.000000   \n",
       "\n",
       "         runs_total  \n",
       "count  21522.000000  \n",
       "mean       1.277344  \n",
       "std        1.569651  \n",
       "min        0.000000  \n",
       "25%        0.000000  \n",
       "50%        1.000000  \n",
       "75%        1.000000  \n",
       "max        7.000000  "
      ]
     },
     "execution_count": 11,
     "metadata": {},
     "output_type": "execute_result"
    }
   ],
   "source": [
    "# We will keep it simple and only look at Numerical columns\n",
    "initial_df.describe()"
   ]
  },
  {
   "cell_type": "markdown",
   "id": "0ad24edb",
   "metadata": {
    "papermill": {
     "duration": 0.006395,
     "end_time": "2025-06-07T11:56:10.445328",
     "exception": false,
     "start_time": "2025-06-07T11:56:10.438933",
     "status": "completed"
    },
    "tags": []
   },
   "source": [
    "### To build a dream team (being biased), we need to analyse what was the highest/lowest score in an over, per batsman, highest run conceeded by a bowler, team average score etc. Once we figure out some simple stats we can move to complex data analysing by doing feature enginnering and thus add more columns."
   ]
  },
  {
   "cell_type": "markdown",
   "id": "c133cff5",
   "metadata": {
    "papermill": {
     "duration": 0.006356,
     "end_time": "2025-06-07T11:56:10.458287",
     "exception": false,
     "start_time": "2025-06-07T11:56:10.451931",
     "status": "completed"
    },
    "tags": []
   },
   "source": [
    "Let's take a look at the winners how many times Delhi Daredevils won, and later find out win percentage."
   ]
  },
  {
   "cell_type": "code",
   "execution_count": 12,
   "id": "537050f3",
   "metadata": {
    "collapsed": true,
    "execution": {
     "iopub.execute_input": "2025-06-07T11:56:10.472719Z",
     "iopub.status.busy": "2025-06-07T11:56:10.472432Z",
     "iopub.status.idle": "2025-06-07T11:56:10.500621Z",
     "shell.execute_reply": "2025-06-07T11:56:10.499730Z"
    },
    "jupyter": {
     "outputs_hidden": true
    },
    "papermill": {
     "duration": 0.037145,
     "end_time": "2025-06-07T11:56:10.502097",
     "exception": false,
     "start_time": "2025-06-07T11:56:10.464952",
     "status": "completed"
    },
    "tags": []
   },
   "outputs": [
    {
     "data": {
      "text/plain": [
       "Series([], Name: count, dtype: int64)"
      ]
     },
     "execution_count": 12,
     "metadata": {},
     "output_type": "execute_result"
    }
   ],
   "source": [
    "initial_df.value_counts()\n"
   ]
  },
  {
   "cell_type": "markdown",
   "id": "69db33b7",
   "metadata": {
    "papermill": {
     "duration": 0.006473,
     "end_time": "2025-06-07T11:56:10.515598",
     "exception": false,
     "start_time": "2025-06-07T11:56:10.509125",
     "status": "completed"
    },
    "tags": []
   },
   "source": [
    "### Breaking the dataframe\n",
    "\n",
    "Currently the dataframe contains everything from the $yaml$ files into single dataframe however as we observed above this is making hard to understand the data. Instead we will break the dataframes into two one will include info for matches and other ball by ball stat.\n"
   ]
  },
  {
   "cell_type": "markdown",
   "id": "ed25798e",
   "metadata": {
    "papermill": {
     "duration": 0.006532,
     "end_time": "2025-06-07T11:56:10.528820",
     "exception": false,
     "start_time": "2025-06-07T11:56:10.522288",
     "status": "completed"
    },
    "tags": []
   },
   "source": [
    "Keeping two clean, modular datasets gives you:\n",
    "\n",
    "* Clarity during data exploration\n",
    "\n",
    "* Flexibility for aggregation, modeling, and visualization\n",
    "\n",
    "* Performance in terms of memory and speed\n",
    "\n",
    "### *df_matches* \n",
    "One row per match. We will use this for match-level analysis, win percentage, win prediction, toss etc\n",
    "\n",
    "### *df_deliveries* \n",
    "Ball by ball data. We will use this df for player performance and start feature engineering here first."
   ]
  },
  {
   "cell_type": "code",
   "execution_count": 13,
   "id": "45319f40",
   "metadata": {
    "execution": {
     "iopub.execute_input": "2025-06-07T11:56:10.543859Z",
     "iopub.status.busy": "2025-06-07T11:56:10.543289Z",
     "iopub.status.idle": "2025-06-07T11:56:10.548816Z",
     "shell.execute_reply": "2025-06-07T11:56:10.548036Z"
    },
    "papermill": {
     "duration": 0.014618,
     "end_time": "2025-06-07T11:56:10.550267",
     "exception": false,
     "start_time": "2025-06-07T11:56:10.535649",
     "status": "completed"
    },
    "tags": []
   },
   "outputs": [
    {
     "data": {
      "text/plain": [
       "Index(['match_id', 'inning', 'over', 'ball', 'batting_team', 'bowling_team',\n",
       "       'batsman', 'non_striker', 'bowler', 'runs_batsman', 'runs_extras',\n",
       "       'runs_total', 'dismissal_kind', 'player_out'],\n",
       "      dtype='object')"
      ]
     },
     "execution_count": 13,
     "metadata": {},
     "output_type": "execute_result"
    }
   ],
   "source": [
    "initial_df.columns"
   ]
  },
  {
   "cell_type": "code",
   "execution_count": 14,
   "id": "08ec5edd",
   "metadata": {
    "execution": {
     "iopub.execute_input": "2025-06-07T11:56:10.565523Z",
     "iopub.status.busy": "2025-06-07T11:56:10.565248Z",
     "iopub.status.idle": "2025-06-07T11:56:10.578084Z",
     "shell.execute_reply": "2025-06-07T11:56:10.577266Z"
    },
    "papermill": {
     "duration": 0.022326,
     "end_time": "2025-06-07T11:56:10.579678",
     "exception": false,
     "start_time": "2025-06-07T11:56:10.557352",
     "status": "completed"
    },
    "tags": []
   },
   "outputs": [],
   "source": [
    "# Create match_id\n",
    "# initial_df['match_id'] = (initial_df[\"match_date\"].astype(str) + \", \" + initial_df[\"venue\"].astype(str))\n",
    "\n",
    "\n",
    "# Create df_matches\n",
    "# df_matches = initial_df[[\"match_id\", 'match_date', 'venue', 'winner', 'player_of_match', 'toss_winner']].drop_duplicates()\n",
    "# Create df_deliveries\n",
    "# We will add match_id column to our new df so we could use it later if we need to merge it\n",
    "df_deliveries_clean = initial_df[['match_id', 'inning', 'batting_team','bowling_team', 'over', 'ball',\n",
    "                                  'batsman', 'non_striker', 'bowler',\n",
    "                                  'runs_batsman', 'runs_extras', \n",
    "                                  'runs_total', 'dismissal_kind']].copy()\n",
    "\n",
    "\n",
    "# Since we will be working with new dataframe a lot, it may cause error when we slice current df again and again"
   ]
  },
  {
   "cell_type": "markdown",
   "id": "a674b743",
   "metadata": {
    "papermill": {
     "duration": 0.00678,
     "end_time": "2025-06-07T11:56:10.593594",
     "exception": false,
     "start_time": "2025-06-07T11:56:10.586814",
     "status": "completed"
    },
    "tags": []
   },
   "source": [
    "After creating the two new dataframes we will work on basic feature engineering first and create new columns."
   ]
  },
  {
   "cell_type": "code",
   "execution_count": 15,
   "id": "bd65e155",
   "metadata": {
    "execution": {
     "iopub.execute_input": "2025-06-07T11:56:10.608994Z",
     "iopub.status.busy": "2025-06-07T11:56:10.608675Z",
     "iopub.status.idle": "2025-06-07T11:56:10.621715Z",
     "shell.execute_reply": "2025-06-07T11:56:10.620888Z"
    },
    "papermill": {
     "duration": 0.022316,
     "end_time": "2025-06-07T11:56:10.623171",
     "exception": false,
     "start_time": "2025-06-07T11:56:10.600855",
     "status": "completed"
    },
    "tags": []
   },
   "outputs": [
    {
     "data": {
      "text/html": [
       "<div>\n",
       "<style scoped>\n",
       "    .dataframe tbody tr th:only-of-type {\n",
       "        vertical-align: middle;\n",
       "    }\n",
       "\n",
       "    .dataframe tbody tr th {\n",
       "        vertical-align: top;\n",
       "    }\n",
       "\n",
       "    .dataframe thead th {\n",
       "        text-align: right;\n",
       "    }\n",
       "</style>\n",
       "<table border=\"1\" class=\"dataframe\">\n",
       "  <thead>\n",
       "    <tr style=\"text-align: right;\">\n",
       "      <th></th>\n",
       "      <th>match_id</th>\n",
       "      <th>inning</th>\n",
       "      <th>batting_team</th>\n",
       "      <th>bowling_team</th>\n",
       "      <th>over</th>\n",
       "      <th>ball</th>\n",
       "      <th>batsman</th>\n",
       "      <th>non_striker</th>\n",
       "      <th>bowler</th>\n",
       "      <th>runs_batsman</th>\n",
       "      <th>runs_extras</th>\n",
       "      <th>runs_total</th>\n",
       "      <th>dismissal_kind</th>\n",
       "    </tr>\n",
       "  </thead>\n",
       "  <tbody>\n",
       "    <tr>\n",
       "      <th>21517</th>\n",
       "      <td>2008-05-11, Sawai Mansingh Stadium</td>\n",
       "      <td>2</td>\n",
       "      <td>Rajasthan Royals</td>\n",
       "      <td>Delhi Daredevils</td>\n",
       "      <td>18</td>\n",
       "      <td>18.3</td>\n",
       "      <td>M Rawat</td>\n",
       "      <td>Niraj Patel</td>\n",
       "      <td>MF Maharoof</td>\n",
       "      <td>0</td>\n",
       "      <td>0</td>\n",
       "      <td>0</td>\n",
       "      <td>None</td>\n",
       "    </tr>\n",
       "    <tr>\n",
       "      <th>21518</th>\n",
       "      <td>2008-05-11, Sawai Mansingh Stadium</td>\n",
       "      <td>2</td>\n",
       "      <td>Rajasthan Royals</td>\n",
       "      <td>Delhi Daredevils</td>\n",
       "      <td>18</td>\n",
       "      <td>18.4</td>\n",
       "      <td>M Rawat</td>\n",
       "      <td>Niraj Patel</td>\n",
       "      <td>MF Maharoof</td>\n",
       "      <td>0</td>\n",
       "      <td>0</td>\n",
       "      <td>0</td>\n",
       "      <td>None</td>\n",
       "    </tr>\n",
       "    <tr>\n",
       "      <th>21519</th>\n",
       "      <td>2008-05-11, Sawai Mansingh Stadium</td>\n",
       "      <td>2</td>\n",
       "      <td>Rajasthan Royals</td>\n",
       "      <td>Delhi Daredevils</td>\n",
       "      <td>18</td>\n",
       "      <td>18.5</td>\n",
       "      <td>M Rawat</td>\n",
       "      <td>Niraj Patel</td>\n",
       "      <td>MF Maharoof</td>\n",
       "      <td>1</td>\n",
       "      <td>0</td>\n",
       "      <td>1</td>\n",
       "      <td>None</td>\n",
       "    </tr>\n",
       "    <tr>\n",
       "      <th>21520</th>\n",
       "      <td>2008-05-11, Sawai Mansingh Stadium</td>\n",
       "      <td>2</td>\n",
       "      <td>Rajasthan Royals</td>\n",
       "      <td>Delhi Daredevils</td>\n",
       "      <td>18</td>\n",
       "      <td>18.6</td>\n",
       "      <td>Niraj Patel</td>\n",
       "      <td>M Rawat</td>\n",
       "      <td>MF Maharoof</td>\n",
       "      <td>4</td>\n",
       "      <td>0</td>\n",
       "      <td>4</td>\n",
       "      <td>None</td>\n",
       "    </tr>\n",
       "    <tr>\n",
       "      <th>21521</th>\n",
       "      <td>2008-05-11, Sawai Mansingh Stadium</td>\n",
       "      <td>2</td>\n",
       "      <td>Rajasthan Royals</td>\n",
       "      <td>Delhi Daredevils</td>\n",
       "      <td>19</td>\n",
       "      <td>19.1</td>\n",
       "      <td>M Rawat</td>\n",
       "      <td>Niraj Patel</td>\n",
       "      <td>VY Mahesh</td>\n",
       "      <td>4</td>\n",
       "      <td>0</td>\n",
       "      <td>4</td>\n",
       "      <td>None</td>\n",
       "    </tr>\n",
       "  </tbody>\n",
       "</table>\n",
       "</div>"
      ],
      "text/plain": [
       "                                 match_id  inning      batting_team  \\\n",
       "21517  2008-05-11, Sawai Mansingh Stadium       2  Rajasthan Royals   \n",
       "21518  2008-05-11, Sawai Mansingh Stadium       2  Rajasthan Royals   \n",
       "21519  2008-05-11, Sawai Mansingh Stadium       2  Rajasthan Royals   \n",
       "21520  2008-05-11, Sawai Mansingh Stadium       2  Rajasthan Royals   \n",
       "21521  2008-05-11, Sawai Mansingh Stadium       2  Rajasthan Royals   \n",
       "\n",
       "           bowling_team  over  ball      batsman  non_striker       bowler  \\\n",
       "21517  Delhi Daredevils    18  18.3      M Rawat  Niraj Patel  MF Maharoof   \n",
       "21518  Delhi Daredevils    18  18.4      M Rawat  Niraj Patel  MF Maharoof   \n",
       "21519  Delhi Daredevils    18  18.5      M Rawat  Niraj Patel  MF Maharoof   \n",
       "21520  Delhi Daredevils    18  18.6  Niraj Patel      M Rawat  MF Maharoof   \n",
       "21521  Delhi Daredevils    19  19.1      M Rawat  Niraj Patel    VY Mahesh   \n",
       "\n",
       "       runs_batsman  runs_extras  runs_total dismissal_kind  \n",
       "21517             0            0           0           None  \n",
       "21518             0            0           0           None  \n",
       "21519             1            0           1           None  \n",
       "21520             4            0           4           None  \n",
       "21521             4            0           4           None  "
      ]
     },
     "execution_count": 15,
     "metadata": {},
     "output_type": "execute_result"
    }
   ],
   "source": [
    "df_deliveries_clean.tail()"
   ]
  },
  {
   "cell_type": "markdown",
   "id": "f60281d2",
   "metadata": {
    "papermill": {
     "duration": 0.006785,
     "end_time": "2025-06-07T11:56:10.637279",
     "exception": false,
     "start_time": "2025-06-07T11:56:10.630494",
     "status": "completed"
    },
    "tags": []
   },
   "source": [
    "### Feature Engineering"
   ]
  },
  {
   "cell_type": "code",
   "execution_count": 16,
   "id": "481014bf",
   "metadata": {
    "execution": {
     "iopub.execute_input": "2025-06-07T11:56:10.653153Z",
     "iopub.status.busy": "2025-06-07T11:56:10.652327Z",
     "iopub.status.idle": "2025-06-07T11:56:10.657737Z",
     "shell.execute_reply": "2025-06-07T11:56:10.656867Z"
    },
    "papermill": {
     "duration": 0.014995,
     "end_time": "2025-06-07T11:56:10.659328",
     "exception": false,
     "start_time": "2025-06-07T11:56:10.644333",
     "status": "completed"
    },
    "tags": []
   },
   "outputs": [
    {
     "name": "stdout",
     "output_type": "stream",
     "text": [
      "match_id           object\n",
      "inning              int64\n",
      "batting_team       object\n",
      "bowling_team       object\n",
      "over                int64\n",
      "ball              float64\n",
      "batsman            object\n",
      "non_striker        object\n",
      "bowler             object\n",
      "runs_batsman        int64\n",
      "runs_extras         int64\n",
      "runs_total          int64\n",
      "dismissal_kind     object\n",
      "dtype: object\n"
     ]
    }
   ],
   "source": [
    "# Checking data types\n",
    "print(df_deliveries_clean.dtypes)"
   ]
  },
  {
   "cell_type": "markdown",
   "id": "be75cee8",
   "metadata": {
    "papermill": {
     "duration": 0.006931,
     "end_time": "2025-06-07T11:56:10.673646",
     "exception": false,
     "start_time": "2025-06-07T11:56:10.666715",
     "status": "completed"
    },
    "tags": []
   },
   "source": [
    "Create column for 4's and 6's scored"
   ]
  },
  {
   "cell_type": "code",
   "execution_count": 17,
   "id": "d569bdd8",
   "metadata": {
    "execution": {
     "iopub.execute_input": "2025-06-07T11:56:10.689059Z",
     "iopub.status.busy": "2025-06-07T11:56:10.688718Z",
     "iopub.status.idle": "2025-06-07T11:56:10.704306Z",
     "shell.execute_reply": "2025-06-07T11:56:10.703466Z"
    },
    "papermill": {
     "duration": 0.025219,
     "end_time": "2025-06-07T11:56:10.705941",
     "exception": false,
     "start_time": "2025-06-07T11:56:10.680722",
     "status": "completed"
    },
    "tags": []
   },
   "outputs": [
    {
     "data": {
      "text/html": [
       "<div>\n",
       "<style scoped>\n",
       "    .dataframe tbody tr th:only-of-type {\n",
       "        vertical-align: middle;\n",
       "    }\n",
       "\n",
       "    .dataframe tbody tr th {\n",
       "        vertical-align: top;\n",
       "    }\n",
       "\n",
       "    .dataframe thead th {\n",
       "        text-align: right;\n",
       "    }\n",
       "</style>\n",
       "<table border=\"1\" class=\"dataframe\">\n",
       "  <thead>\n",
       "    <tr style=\"text-align: right;\">\n",
       "      <th></th>\n",
       "      <th>match_id</th>\n",
       "      <th>inning</th>\n",
       "      <th>batting_team</th>\n",
       "      <th>bowling_team</th>\n",
       "      <th>over</th>\n",
       "      <th>ball</th>\n",
       "      <th>batsman</th>\n",
       "      <th>non_striker</th>\n",
       "      <th>bowler</th>\n",
       "      <th>runs_batsman</th>\n",
       "      <th>runs_extras</th>\n",
       "      <th>runs_total</th>\n",
       "      <th>dismissal_kind</th>\n",
       "      <th>is_four</th>\n",
       "      <th>is_six</th>\n",
       "    </tr>\n",
       "  </thead>\n",
       "  <tbody>\n",
       "    <tr>\n",
       "      <th>21517</th>\n",
       "      <td>2008-05-11, Sawai Mansingh Stadium</td>\n",
       "      <td>2</td>\n",
       "      <td>Rajasthan Royals</td>\n",
       "      <td>Delhi Daredevils</td>\n",
       "      <td>18</td>\n",
       "      <td>18.3</td>\n",
       "      <td>M Rawat</td>\n",
       "      <td>Niraj Patel</td>\n",
       "      <td>MF Maharoof</td>\n",
       "      <td>0</td>\n",
       "      <td>0</td>\n",
       "      <td>0</td>\n",
       "      <td>None</td>\n",
       "      <td>0</td>\n",
       "      <td>0</td>\n",
       "    </tr>\n",
       "    <tr>\n",
       "      <th>21518</th>\n",
       "      <td>2008-05-11, Sawai Mansingh Stadium</td>\n",
       "      <td>2</td>\n",
       "      <td>Rajasthan Royals</td>\n",
       "      <td>Delhi Daredevils</td>\n",
       "      <td>18</td>\n",
       "      <td>18.4</td>\n",
       "      <td>M Rawat</td>\n",
       "      <td>Niraj Patel</td>\n",
       "      <td>MF Maharoof</td>\n",
       "      <td>0</td>\n",
       "      <td>0</td>\n",
       "      <td>0</td>\n",
       "      <td>None</td>\n",
       "      <td>0</td>\n",
       "      <td>0</td>\n",
       "    </tr>\n",
       "    <tr>\n",
       "      <th>21519</th>\n",
       "      <td>2008-05-11, Sawai Mansingh Stadium</td>\n",
       "      <td>2</td>\n",
       "      <td>Rajasthan Royals</td>\n",
       "      <td>Delhi Daredevils</td>\n",
       "      <td>18</td>\n",
       "      <td>18.5</td>\n",
       "      <td>M Rawat</td>\n",
       "      <td>Niraj Patel</td>\n",
       "      <td>MF Maharoof</td>\n",
       "      <td>1</td>\n",
       "      <td>0</td>\n",
       "      <td>1</td>\n",
       "      <td>None</td>\n",
       "      <td>0</td>\n",
       "      <td>0</td>\n",
       "    </tr>\n",
       "    <tr>\n",
       "      <th>21520</th>\n",
       "      <td>2008-05-11, Sawai Mansingh Stadium</td>\n",
       "      <td>2</td>\n",
       "      <td>Rajasthan Royals</td>\n",
       "      <td>Delhi Daredevils</td>\n",
       "      <td>18</td>\n",
       "      <td>18.6</td>\n",
       "      <td>Niraj Patel</td>\n",
       "      <td>M Rawat</td>\n",
       "      <td>MF Maharoof</td>\n",
       "      <td>4</td>\n",
       "      <td>0</td>\n",
       "      <td>4</td>\n",
       "      <td>None</td>\n",
       "      <td>1</td>\n",
       "      <td>0</td>\n",
       "    </tr>\n",
       "    <tr>\n",
       "      <th>21521</th>\n",
       "      <td>2008-05-11, Sawai Mansingh Stadium</td>\n",
       "      <td>2</td>\n",
       "      <td>Rajasthan Royals</td>\n",
       "      <td>Delhi Daredevils</td>\n",
       "      <td>19</td>\n",
       "      <td>19.1</td>\n",
       "      <td>M Rawat</td>\n",
       "      <td>Niraj Patel</td>\n",
       "      <td>VY Mahesh</td>\n",
       "      <td>4</td>\n",
       "      <td>0</td>\n",
       "      <td>4</td>\n",
       "      <td>None</td>\n",
       "      <td>1</td>\n",
       "      <td>0</td>\n",
       "    </tr>\n",
       "  </tbody>\n",
       "</table>\n",
       "</div>"
      ],
      "text/plain": [
       "                                 match_id  inning      batting_team  \\\n",
       "21517  2008-05-11, Sawai Mansingh Stadium       2  Rajasthan Royals   \n",
       "21518  2008-05-11, Sawai Mansingh Stadium       2  Rajasthan Royals   \n",
       "21519  2008-05-11, Sawai Mansingh Stadium       2  Rajasthan Royals   \n",
       "21520  2008-05-11, Sawai Mansingh Stadium       2  Rajasthan Royals   \n",
       "21521  2008-05-11, Sawai Mansingh Stadium       2  Rajasthan Royals   \n",
       "\n",
       "           bowling_team  over  ball      batsman  non_striker       bowler  \\\n",
       "21517  Delhi Daredevils    18  18.3      M Rawat  Niraj Patel  MF Maharoof   \n",
       "21518  Delhi Daredevils    18  18.4      M Rawat  Niraj Patel  MF Maharoof   \n",
       "21519  Delhi Daredevils    18  18.5      M Rawat  Niraj Patel  MF Maharoof   \n",
       "21520  Delhi Daredevils    18  18.6  Niraj Patel      M Rawat  MF Maharoof   \n",
       "21521  Delhi Daredevils    19  19.1      M Rawat  Niraj Patel    VY Mahesh   \n",
       "\n",
       "       runs_batsman  runs_extras  runs_total dismissal_kind  is_four  is_six  \n",
       "21517             0            0           0           None        0       0  \n",
       "21518             0            0           0           None        0       0  \n",
       "21519             1            0           1           None        0       0  \n",
       "21520             4            0           4           None        1       0  \n",
       "21521             4            0           4           None        1       0  "
      ]
     },
     "execution_count": 17,
     "metadata": {},
     "output_type": "execute_result"
    }
   ],
   "source": [
    "# Column for 4's scored\n",
    "df_deliveries_clean['is_four'] = (df_deliveries_clean['runs_batsman']==4).astype(int)\n",
    "# Column for 6's scored\n",
    "df_deliveries_clean['is_six'] = (df_deliveries_clean['runs_batsman']==6).astype(int)\n",
    "\n",
    "# check the new cols\n",
    "df_deliveries_clean.tail()"
   ]
  },
  {
   "cell_type": "markdown",
   "id": "7c29561c",
   "metadata": {
    "papermill": {
     "duration": 0.007081,
     "end_time": "2025-06-07T11:56:10.720660",
     "exception": false,
     "start_time": "2025-06-07T11:56:10.713579",
     "status": "completed"
    },
    "tags": []
   },
   "source": [
    "### We will now try to make the data lighter. Instead of working with 120* balls we will do an over by over summary. This will again help us in our further analysis"
   ]
  },
  {
   "cell_type": "code",
   "execution_count": 18,
   "id": "6207f741",
   "metadata": {
    "execution": {
     "iopub.execute_input": "2025-06-07T11:56:10.736866Z",
     "iopub.status.busy": "2025-06-07T11:56:10.736583Z",
     "iopub.status.idle": "2025-06-07T11:56:10.778292Z",
     "shell.execute_reply": "2025-06-07T11:56:10.777391Z"
    },
    "papermill": {
     "duration": 0.051739,
     "end_time": "2025-06-07T11:56:10.779834",
     "exception": false,
     "start_time": "2025-06-07T11:56:10.728095",
     "status": "completed"
    },
    "tags": []
   },
   "outputs": [
    {
     "data": {
      "text/html": [
       "<div>\n",
       "<style scoped>\n",
       "    .dataframe tbody tr th:only-of-type {\n",
       "        vertical-align: middle;\n",
       "    }\n",
       "\n",
       "    .dataframe tbody tr th {\n",
       "        vertical-align: top;\n",
       "    }\n",
       "\n",
       "    .dataframe thead th {\n",
       "        text-align: right;\n",
       "    }\n",
       "</style>\n",
       "<table border=\"1\" class=\"dataframe\">\n",
       "  <thead>\n",
       "    <tr style=\"text-align: right;\">\n",
       "      <th></th>\n",
       "      <th>match_id</th>\n",
       "      <th>inning</th>\n",
       "      <th>batting_team</th>\n",
       "      <th>over</th>\n",
       "      <th>runs_in_over</th>\n",
       "      <th>balls_bowled</th>\n",
       "      <th>fours</th>\n",
       "      <th>six</th>\n",
       "      <th>run_rate</th>\n",
       "    </tr>\n",
       "  </thead>\n",
       "  <tbody>\n",
       "    <tr>\n",
       "      <th>0</th>\n",
       "      <td>2008-04-19, Feroz Shah Kotla</td>\n",
       "      <td>1</td>\n",
       "      <td>Rajasthan Royals</td>\n",
       "      <td>0</td>\n",
       "      <td>7</td>\n",
       "      <td>7</td>\n",
       "      <td>0</td>\n",
       "      <td>1</td>\n",
       "      <td>6.0</td>\n",
       "    </tr>\n",
       "    <tr>\n",
       "      <th>1</th>\n",
       "      <td>2008-04-19, Feroz Shah Kotla</td>\n",
       "      <td>1</td>\n",
       "      <td>Rajasthan Royals</td>\n",
       "      <td>1</td>\n",
       "      <td>10</td>\n",
       "      <td>6</td>\n",
       "      <td>2</td>\n",
       "      <td>0</td>\n",
       "      <td>10.0</td>\n",
       "    </tr>\n",
       "    <tr>\n",
       "      <th>2</th>\n",
       "      <td>2008-04-19, Feroz Shah Kotla</td>\n",
       "      <td>1</td>\n",
       "      <td>Rajasthan Royals</td>\n",
       "      <td>2</td>\n",
       "      <td>0</td>\n",
       "      <td>6</td>\n",
       "      <td>0</td>\n",
       "      <td>0</td>\n",
       "      <td>0.0</td>\n",
       "    </tr>\n",
       "    <tr>\n",
       "      <th>3</th>\n",
       "      <td>2008-04-19, Feroz Shah Kotla</td>\n",
       "      <td>1</td>\n",
       "      <td>Rajasthan Royals</td>\n",
       "      <td>3</td>\n",
       "      <td>14</td>\n",
       "      <td>6</td>\n",
       "      <td>3</td>\n",
       "      <td>0</td>\n",
       "      <td>14.0</td>\n",
       "    </tr>\n",
       "    <tr>\n",
       "      <th>4</th>\n",
       "      <td>2008-04-19, Feroz Shah Kotla</td>\n",
       "      <td>1</td>\n",
       "      <td>Rajasthan Royals</td>\n",
       "      <td>4</td>\n",
       "      <td>6</td>\n",
       "      <td>6</td>\n",
       "      <td>1</td>\n",
       "      <td>0</td>\n",
       "      <td>6.0</td>\n",
       "    </tr>\n",
       "  </tbody>\n",
       "</table>\n",
       "</div>"
      ],
      "text/plain": [
       "                       match_id  inning      batting_team  over  runs_in_over  \\\n",
       "0  2008-04-19, Feroz Shah Kotla       1  Rajasthan Royals     0             7   \n",
       "1  2008-04-19, Feroz Shah Kotla       1  Rajasthan Royals     1            10   \n",
       "2  2008-04-19, Feroz Shah Kotla       1  Rajasthan Royals     2             0   \n",
       "3  2008-04-19, Feroz Shah Kotla       1  Rajasthan Royals     3            14   \n",
       "4  2008-04-19, Feroz Shah Kotla       1  Rajasthan Royals     4             6   \n",
       "\n",
       "   balls_bowled  fours  six  run_rate  \n",
       "0             7      0    1       6.0  \n",
       "1             6      2    0      10.0  \n",
       "2             6      0    0       0.0  \n",
       "3             6      3    0      14.0  \n",
       "4             6      1    0       6.0  "
      ]
     },
     "execution_count": 18,
     "metadata": {},
     "output_type": "execute_result"
    }
   ],
   "source": [
    "over_summary = (\n",
    "    df_deliveries_clean.groupby(['match_id', 'inning', 'batting_team', 'over'])\n",
    "    .agg(runs_in_over = ('runs_total','sum'),\n",
    "        balls_bowled = ('ball', 'count'),\n",
    "        fours = ('is_four', 'sum'),\n",
    "        six = ('is_six', 'sum'),\n",
    "        ).reset_index()\n",
    ")\n",
    "# Run rate\n",
    "over_summary['run_rate'] = over_summary['runs_in_over']/over_summary['balls_bowled']*6\n",
    "over_summary.head()"
   ]
  },
  {
   "cell_type": "markdown",
   "id": "566f6731",
   "metadata": {
    "papermill": {
     "duration": 0.007414,
     "end_time": "2025-06-07T11:56:10.794950",
     "exception": false,
     "start_time": "2025-06-07T11:56:10.787536",
     "status": "completed"
    },
    "tags": []
   },
   "source": [
    "### We hve created **$Over$ $Summary$** this helped deriving over by over run rate, to focus on team-innings. Powerplay overs, death overs(last overs) and more.\n",
    "### We will now drill down further and focus on our dream team for Delhi Daredevils"
   ]
  },
  {
   "cell_type": "code",
   "execution_count": 19,
   "id": "7b8db0ba",
   "metadata": {
    "execution": {
     "iopub.execute_input": "2025-06-07T11:56:10.811312Z",
     "iopub.status.busy": "2025-06-07T11:56:10.811038Z",
     "iopub.status.idle": "2025-06-07T11:56:10.847000Z",
     "shell.execute_reply": "2025-06-07T11:56:10.846018Z"
    },
    "papermill": {
     "duration": 0.046091,
     "end_time": "2025-06-07T11:56:10.848608",
     "exception": false,
     "start_time": "2025-06-07T11:56:10.802517",
     "status": "completed"
    },
    "tags": []
   },
   "outputs": [],
   "source": [
    "team_innings_features = (\n",
    "    over_summary\n",
    "    .groupby(['match_id', 'inning', 'batting_team'])\n",
    "    .agg(\n",
    "        avg_run_rate=('run_rate', 'mean'),\n",
    "        total_runs=('runs_in_over', 'sum'),\n",
    "        total_fours=('fours', 'sum'),\n",
    "        total_sixes=('six', 'sum'),\n",
    "        high_scoring_overs=('runs_in_over', lambda x: (x >= 10).sum())\n",
    "    )\n",
    "    .reset_index()\n",
    ")"
   ]
  },
  {
   "cell_type": "markdown",
   "id": "f0ea1e3d",
   "metadata": {
    "papermill": {
     "duration": 0.007752,
     "end_time": "2025-06-07T11:56:10.864291",
     "exception": false,
     "start_time": "2025-06-07T11:56:10.856539",
     "status": "completed"
    },
    "tags": []
   },
   "source": [
    "### We will focus on individual player performance in two groups, $batsmen$ and $bowler$.\n",
    "### *Batting stats*"
   ]
  },
  {
   "cell_type": "code",
   "execution_count": 20,
   "id": "5c53a78a",
   "metadata": {
    "execution": {
     "iopub.execute_input": "2025-06-07T11:56:10.880988Z",
     "iopub.status.busy": "2025-06-07T11:56:10.880666Z",
     "iopub.status.idle": "2025-06-07T11:56:10.894370Z",
     "shell.execute_reply": "2025-06-07T11:56:10.893391Z"
    },
    "papermill": {
     "duration": 0.023718,
     "end_time": "2025-06-07T11:56:10.895698",
     "exception": false,
     "start_time": "2025-06-07T11:56:10.871980",
     "status": "completed"
    },
    "tags": []
   },
   "outputs": [
    {
     "data": {
      "text/html": [
       "<div>\n",
       "<style scoped>\n",
       "    .dataframe tbody tr th:only-of-type {\n",
       "        vertical-align: middle;\n",
       "    }\n",
       "\n",
       "    .dataframe tbody tr th {\n",
       "        vertical-align: top;\n",
       "    }\n",
       "\n",
       "    .dataframe thead th {\n",
       "        text-align: right;\n",
       "    }\n",
       "</style>\n",
       "<table border=\"1\" class=\"dataframe\">\n",
       "  <thead>\n",
       "    <tr style=\"text-align: right;\">\n",
       "      <th></th>\n",
       "      <th>match_id</th>\n",
       "      <th>inning</th>\n",
       "      <th>batting_team</th>\n",
       "      <th>bowling_team</th>\n",
       "      <th>over</th>\n",
       "      <th>ball</th>\n",
       "      <th>batsman</th>\n",
       "      <th>non_striker</th>\n",
       "      <th>bowler</th>\n",
       "      <th>runs_batsman</th>\n",
       "      <th>runs_extras</th>\n",
       "      <th>runs_total</th>\n",
       "      <th>dismissal_kind</th>\n",
       "      <th>is_four</th>\n",
       "      <th>is_six</th>\n",
       "    </tr>\n",
       "  </thead>\n",
       "  <tbody>\n",
       "    <tr>\n",
       "      <th>0</th>\n",
       "      <td>2013-05-19, Subrata Roy Sahara Stadium</td>\n",
       "      <td>1</td>\n",
       "      <td>Pune Warriors</td>\n",
       "      <td>Delhi Daredevils</td>\n",
       "      <td>0</td>\n",
       "      <td>0.1</td>\n",
       "      <td>RV Uthappa</td>\n",
       "      <td>AJ Finch</td>\n",
       "      <td>IK Pathan</td>\n",
       "      <td>0</td>\n",
       "      <td>0</td>\n",
       "      <td>0</td>\n",
       "      <td>None</td>\n",
       "      <td>0</td>\n",
       "      <td>0</td>\n",
       "    </tr>\n",
       "    <tr>\n",
       "      <th>1</th>\n",
       "      <td>2013-05-19, Subrata Roy Sahara Stadium</td>\n",
       "      <td>1</td>\n",
       "      <td>Pune Warriors</td>\n",
       "      <td>Delhi Daredevils</td>\n",
       "      <td>0</td>\n",
       "      <td>0.2</td>\n",
       "      <td>RV Uthappa</td>\n",
       "      <td>AJ Finch</td>\n",
       "      <td>IK Pathan</td>\n",
       "      <td>2</td>\n",
       "      <td>0</td>\n",
       "      <td>2</td>\n",
       "      <td>None</td>\n",
       "      <td>0</td>\n",
       "      <td>0</td>\n",
       "    </tr>\n",
       "    <tr>\n",
       "      <th>2</th>\n",
       "      <td>2013-05-19, Subrata Roy Sahara Stadium</td>\n",
       "      <td>1</td>\n",
       "      <td>Pune Warriors</td>\n",
       "      <td>Delhi Daredevils</td>\n",
       "      <td>0</td>\n",
       "      <td>0.3</td>\n",
       "      <td>RV Uthappa</td>\n",
       "      <td>AJ Finch</td>\n",
       "      <td>IK Pathan</td>\n",
       "      <td>4</td>\n",
       "      <td>0</td>\n",
       "      <td>4</td>\n",
       "      <td>None</td>\n",
       "      <td>1</td>\n",
       "      <td>0</td>\n",
       "    </tr>\n",
       "    <tr>\n",
       "      <th>3</th>\n",
       "      <td>2013-05-19, Subrata Roy Sahara Stadium</td>\n",
       "      <td>1</td>\n",
       "      <td>Pune Warriors</td>\n",
       "      <td>Delhi Daredevils</td>\n",
       "      <td>0</td>\n",
       "      <td>0.4</td>\n",
       "      <td>RV Uthappa</td>\n",
       "      <td>AJ Finch</td>\n",
       "      <td>IK Pathan</td>\n",
       "      <td>0</td>\n",
       "      <td>0</td>\n",
       "      <td>0</td>\n",
       "      <td>None</td>\n",
       "      <td>0</td>\n",
       "      <td>0</td>\n",
       "    </tr>\n",
       "    <tr>\n",
       "      <th>4</th>\n",
       "      <td>2013-05-19, Subrata Roy Sahara Stadium</td>\n",
       "      <td>1</td>\n",
       "      <td>Pune Warriors</td>\n",
       "      <td>Delhi Daredevils</td>\n",
       "      <td>0</td>\n",
       "      <td>0.5</td>\n",
       "      <td>RV Uthappa</td>\n",
       "      <td>AJ Finch</td>\n",
       "      <td>IK Pathan</td>\n",
       "      <td>1</td>\n",
       "      <td>0</td>\n",
       "      <td>1</td>\n",
       "      <td>None</td>\n",
       "      <td>0</td>\n",
       "      <td>0</td>\n",
       "    </tr>\n",
       "  </tbody>\n",
       "</table>\n",
       "</div>"
      ],
      "text/plain": [
       "                                 match_id  inning   batting_team  \\\n",
       "0  2013-05-19, Subrata Roy Sahara Stadium       1  Pune Warriors   \n",
       "1  2013-05-19, Subrata Roy Sahara Stadium       1  Pune Warriors   \n",
       "2  2013-05-19, Subrata Roy Sahara Stadium       1  Pune Warriors   \n",
       "3  2013-05-19, Subrata Roy Sahara Stadium       1  Pune Warriors   \n",
       "4  2013-05-19, Subrata Roy Sahara Stadium       1  Pune Warriors   \n",
       "\n",
       "       bowling_team  over  ball     batsman non_striker     bowler  \\\n",
       "0  Delhi Daredevils     0   0.1  RV Uthappa    AJ Finch  IK Pathan   \n",
       "1  Delhi Daredevils     0   0.2  RV Uthappa    AJ Finch  IK Pathan   \n",
       "2  Delhi Daredevils     0   0.3  RV Uthappa    AJ Finch  IK Pathan   \n",
       "3  Delhi Daredevils     0   0.4  RV Uthappa    AJ Finch  IK Pathan   \n",
       "4  Delhi Daredevils     0   0.5  RV Uthappa    AJ Finch  IK Pathan   \n",
       "\n",
       "   runs_batsman  runs_extras  runs_total dismissal_kind  is_four  is_six  \n",
       "0             0            0           0           None        0       0  \n",
       "1             2            0           2           None        0       0  \n",
       "2             4            0           4           None        1       0  \n",
       "3             0            0           0           None        0       0  \n",
       "4             1            0           1           None        0       0  "
      ]
     },
     "execution_count": 20,
     "metadata": {},
     "output_type": "execute_result"
    }
   ],
   "source": [
    "df_deliveries_clean.head()"
   ]
  },
  {
   "cell_type": "code",
   "execution_count": 21,
   "id": "97339db9",
   "metadata": {
    "collapsed": true,
    "execution": {
     "iopub.execute_input": "2025-06-07T11:56:10.912678Z",
     "iopub.status.busy": "2025-06-07T11:56:10.912348Z",
     "iopub.status.idle": "2025-06-07T11:56:10.944766Z",
     "shell.execute_reply": "2025-06-07T11:56:10.943753Z"
    },
    "jupyter": {
     "outputs_hidden": true
    },
    "papermill": {
     "duration": 0.042609,
     "end_time": "2025-06-07T11:56:10.946343",
     "exception": false,
     "start_time": "2025-06-07T11:56:10.903734",
     "status": "completed"
    },
    "tags": []
   },
   "outputs": [
    {
     "data": {
      "text/html": [
       "<div>\n",
       "<style scoped>\n",
       "    .dataframe tbody tr th:only-of-type {\n",
       "        vertical-align: middle;\n",
       "    }\n",
       "\n",
       "    .dataframe tbody tr th {\n",
       "        vertical-align: top;\n",
       "    }\n",
       "\n",
       "    .dataframe thead th {\n",
       "        text-align: right;\n",
       "    }\n",
       "</style>\n",
       "<table border=\"1\" class=\"dataframe\">\n",
       "  <thead>\n",
       "    <tr style=\"text-align: right;\">\n",
       "      <th></th>\n",
       "      <th>batsman</th>\n",
       "      <th>matches_played</th>\n",
       "      <th>total_runs</th>\n",
       "      <th>balls_faced</th>\n",
       "      <th>fours</th>\n",
       "      <th>six</th>\n",
       "      <th>average</th>\n",
       "      <th>strike_rate</th>\n",
       "      <th>boundary_percentage</th>\n",
       "    </tr>\n",
       "  </thead>\n",
       "  <tbody>\n",
       "    <tr>\n",
       "      <th>0</th>\n",
       "      <td>A Mishra</td>\n",
       "      <td>15</td>\n",
       "      <td>102</td>\n",
       "      <td>116</td>\n",
       "      <td>6</td>\n",
       "      <td>2</td>\n",
       "      <td>8.793103</td>\n",
       "      <td>87.9</td>\n",
       "      <td>6.9</td>\n",
       "    </tr>\n",
       "    <tr>\n",
       "      <th>1</th>\n",
       "      <td>A Nehra</td>\n",
       "      <td>7</td>\n",
       "      <td>25</td>\n",
       "      <td>29</td>\n",
       "      <td>2</td>\n",
       "      <td>1</td>\n",
       "      <td>8.620690</td>\n",
       "      <td>86.2</td>\n",
       "      <td>10.3</td>\n",
       "    </tr>\n",
       "    <tr>\n",
       "      <th>2</th>\n",
       "      <td>AB Agarkar</td>\n",
       "      <td>3</td>\n",
       "      <td>19</td>\n",
       "      <td>23</td>\n",
       "      <td>1</td>\n",
       "      <td>0</td>\n",
       "      <td>8.260870</td>\n",
       "      <td>82.6</td>\n",
       "      <td>4.3</td>\n",
       "    </tr>\n",
       "    <tr>\n",
       "      <th>3</th>\n",
       "      <td>AB Dinda</td>\n",
       "      <td>1</td>\n",
       "      <td>0</td>\n",
       "      <td>5</td>\n",
       "      <td>0</td>\n",
       "      <td>0</td>\n",
       "      <td>0.000000</td>\n",
       "      <td>0.0</td>\n",
       "      <td>0.0</td>\n",
       "    </tr>\n",
       "    <tr>\n",
       "      <th>4</th>\n",
       "      <td>AB McDonald</td>\n",
       "      <td>5</td>\n",
       "      <td>76</td>\n",
       "      <td>65</td>\n",
       "      <td>3</td>\n",
       "      <td>2</td>\n",
       "      <td>11.692308</td>\n",
       "      <td>116.9</td>\n",
       "      <td>7.7</td>\n",
       "    </tr>\n",
       "    <tr>\n",
       "      <th>...</th>\n",
       "      <td>...</td>\n",
       "      <td>...</td>\n",
       "      <td>...</td>\n",
       "      <td>...</td>\n",
       "      <td>...</td>\n",
       "      <td>...</td>\n",
       "      <td>...</td>\n",
       "      <td>...</td>\n",
       "      <td>...</td>\n",
       "    </tr>\n",
       "    <tr>\n",
       "      <th>56</th>\n",
       "      <td>V Sehwag</td>\n",
       "      <td>79</td>\n",
       "      <td>2174</td>\n",
       "      <td>1410</td>\n",
       "      <td>266</td>\n",
       "      <td>85</td>\n",
       "      <td>15.418440</td>\n",
       "      <td>154.2</td>\n",
       "      <td>24.9</td>\n",
       "    </tr>\n",
       "    <tr>\n",
       "      <th>57</th>\n",
       "      <td>VR Aaron</td>\n",
       "      <td>3</td>\n",
       "      <td>1</td>\n",
       "      <td>8</td>\n",
       "      <td>0</td>\n",
       "      <td>0</td>\n",
       "      <td>1.250000</td>\n",
       "      <td>12.5</td>\n",
       "      <td>0.0</td>\n",
       "    </tr>\n",
       "    <tr>\n",
       "      <th>58</th>\n",
       "      <td>VY Mahesh</td>\n",
       "      <td>5</td>\n",
       "      <td>15</td>\n",
       "      <td>28</td>\n",
       "      <td>0</td>\n",
       "      <td>0</td>\n",
       "      <td>5.357143</td>\n",
       "      <td>53.6</td>\n",
       "      <td>0.0</td>\n",
       "    </tr>\n",
       "    <tr>\n",
       "      <th>59</th>\n",
       "      <td>Y Nagar</td>\n",
       "      <td>20</td>\n",
       "      <td>285</td>\n",
       "      <td>271</td>\n",
       "      <td>20</td>\n",
       "      <td>9</td>\n",
       "      <td>10.516605</td>\n",
       "      <td>105.2</td>\n",
       "      <td>10.7</td>\n",
       "    </tr>\n",
       "    <tr>\n",
       "      <th>60</th>\n",
       "      <td>Y Venugopal Rao</td>\n",
       "      <td>21</td>\n",
       "      <td>468</td>\n",
       "      <td>421</td>\n",
       "      <td>38</td>\n",
       "      <td>18</td>\n",
       "      <td>11.116390</td>\n",
       "      <td>111.2</td>\n",
       "      <td>13.3</td>\n",
       "    </tr>\n",
       "  </tbody>\n",
       "</table>\n",
       "<p>61 rows × 9 columns</p>\n",
       "</div>"
      ],
      "text/plain": [
       "            batsman  matches_played  total_runs  balls_faced  fours  six  \\\n",
       "0          A Mishra              15         102          116      6    2   \n",
       "1           A Nehra               7          25           29      2    1   \n",
       "2        AB Agarkar               3          19           23      1    0   \n",
       "3          AB Dinda               1           0            5      0    0   \n",
       "4       AB McDonald               5          76           65      3    2   \n",
       "..              ...             ...         ...          ...    ...  ...   \n",
       "56         V Sehwag              79        2174         1410    266   85   \n",
       "57         VR Aaron               3           1            8      0    0   \n",
       "58        VY Mahesh               5          15           28      0    0   \n",
       "59          Y Nagar              20         285          271     20    9   \n",
       "60  Y Venugopal Rao              21         468          421     38   18   \n",
       "\n",
       "      average  strike_rate  boundary_percentage  \n",
       "0    8.793103         87.9                  6.9  \n",
       "1    8.620690         86.2                 10.3  \n",
       "2    8.260870         82.6                  4.3  \n",
       "3    0.000000          0.0                  0.0  \n",
       "4   11.692308        116.9                  7.7  \n",
       "..        ...          ...                  ...  \n",
       "56  15.418440        154.2                 24.9  \n",
       "57   1.250000         12.5                  0.0  \n",
       "58   5.357143         53.6                  0.0  \n",
       "59  10.516605        105.2                 10.7  \n",
       "60  11.116390        111.2                 13.3  \n",
       "\n",
       "[61 rows x 9 columns]"
      ]
     },
     "execution_count": 21,
     "metadata": {},
     "output_type": "execute_result"
    }
   ],
   "source": [
    "# Filtering batting stats for Delhi Daredevils\n",
    "dd_batting_stats = df_deliveries_clean[df_deliveries_clean['batting_team']=='Delhi Daredevils']\n",
    "dd_batting_stats = (dd_batting_stats.groupby('batsman')\n",
    "                 .agg(\n",
    "                     matches_played = ('match_id', 'nunique'),\n",
    "                     total_runs = ('runs_batsman', 'sum'),\n",
    "                     balls_faced = ('ball', 'count'),\n",
    "                     fours = ('is_four', 'sum'),\n",
    "                     six = ('is_six', 'sum'),\n",
    "                 )\n",
    "                .reset_index()\n",
    ")\n",
    "## Deriving additional columns\n",
    "## Average\n",
    "dd_batting_stats['average'] = (dd_batting_stats['total_runs']/dd_batting_stats['balls_faced'])*10\n",
    "## Strike rate\n",
    "dd_batting_stats['strike_rate'] = ((dd_batting_stats['total_runs']/dd_batting_stats['balls_faced'])*100).round(decimals=1)\n",
    "## Boundary percentage\n",
    "dd_batting_stats['boundary_percentage'] = (((dd_batting_stats['fours'] + dd_batting_stats['six'])/dd_batting_stats['balls_faced']) *100).round(decimals=1)\n",
    "# Checking the new df\n",
    "dd_batting_stats"
   ]
  },
  {
   "cell_type": "code",
   "execution_count": 22,
   "id": "26c04710",
   "metadata": {
    "execution": {
     "iopub.execute_input": "2025-06-07T11:56:11.030108Z",
     "iopub.status.busy": "2025-06-07T11:56:11.029790Z",
     "iopub.status.idle": "2025-06-07T11:56:11.124431Z",
     "shell.execute_reply": "2025-06-07T11:56:11.123641Z"
    },
    "papermill": {
     "duration": 0.105576,
     "end_time": "2025-06-07T11:56:11.126373",
     "exception": false,
     "start_time": "2025-06-07T11:56:11.020797",
     "status": "completed"
    },
    "tags": []
   },
   "outputs": [],
   "source": [
    "# Filtering bowling stats for Delhi Daredevils\n",
    "dd_bowling_stats = df_deliveries_clean[df_deliveries_clean['bowling_team'] == 'Delhi Daredevils']\n",
    "dd_bowling_stats = (dd_bowling_stats.groupby('bowler')\n",
    "                   .agg(\n",
    "                       matches_played = ('match_id', 'nunique'),\n",
    "                       balls_bowled = ('ball', 'count'),\n",
    "                       runs_conceeded = ('runs_total', 'sum'),\n",
    "                       wickets=('dismissal_kind', lambda x: x.notna().sum())\n",
    "                   )).reset_index()\n",
    "\n"
   ]
  },
  {
   "cell_type": "code",
   "execution_count": 23,
   "id": "251baea5",
   "metadata": {
    "execution": {
     "iopub.execute_input": "2025-06-07T11:56:11.144363Z",
     "iopub.status.busy": "2025-06-07T11:56:11.144089Z",
     "iopub.status.idle": "2025-06-07T11:56:11.149505Z",
     "shell.execute_reply": "2025-06-07T11:56:11.148793Z"
    },
    "jupyter": {
     "source_hidden": true
    },
    "papermill": {
     "duration": 0.015824,
     "end_time": "2025-06-07T11:56:11.150938",
     "exception": false,
     "start_time": "2025-06-07T11:56:11.135114",
     "status": "completed"
    },
    "tags": []
   },
   "outputs": [
    {
     "data": {
      "text/plain": [
       "61"
      ]
     },
     "execution_count": 23,
     "metadata": {},
     "output_type": "execute_result"
    }
   ],
   "source": [
    "# Total batsman used by Delhi daredevils in 92 matches\n",
    "dd_batting_stats['batsman'].nunique()"
   ]
  },
  {
   "cell_type": "markdown",
   "id": "aa84cd89",
   "metadata": {
    "papermill": {
     "duration": 0.008713,
     "end_time": "2025-06-07T11:56:11.168399",
     "exception": false,
     "start_time": "2025-06-07T11:56:11.159686",
     "status": "completed"
    },
    "tags": []
   },
   "source": [
    "A total of 61 batsman or players were used by Delhi Daredevils\n",
    "\n",
    "### Let's create the bowler stats now\n"
   ]
  },
  {
   "cell_type": "markdown",
   "id": "7785acad",
   "metadata": {
    "papermill": {
     "duration": 0.00808,
     "end_time": "2025-06-07T11:56:11.184727",
     "exception": false,
     "start_time": "2025-06-07T11:56:11.176647",
     "status": "completed"
    },
    "tags": []
   },
   "source": [
    "### We still lack one more column called **$Average$** for complete analysis. Since we do not have explicit column in the resource when the batsman got out, we will go ahead and try to make one.\n",
    "Batting average =Total Runs Scored / Number of Times Dismissed"
   ]
  },
  {
   "cell_type": "code",
   "execution_count": 24,
   "id": "e6344e0b",
   "metadata": {
    "execution": {
     "iopub.execute_input": "2025-06-07T11:56:11.203784Z",
     "iopub.status.busy": "2025-06-07T11:56:11.202948Z",
     "iopub.status.idle": "2025-06-07T11:56:11.209049Z",
     "shell.execute_reply": "2025-06-07T11:56:11.208297Z"
    },
    "papermill": {
     "duration": 0.017136,
     "end_time": "2025-06-07T11:56:11.210434",
     "exception": false,
     "start_time": "2025-06-07T11:56:11.193298",
     "status": "completed"
    },
    "tags": []
   },
   "outputs": [
    {
     "data": {
      "text/plain": [
       "40.0"
      ]
     },
     "execution_count": 24,
     "metadata": {},
     "output_type": "execute_result"
    }
   ],
   "source": [
    "dd_batting_stats['average'].max()\n",
    "dd_batting_stats['strike_rate'].max()\n",
    "dd_batting_stats['boundary_percentage'].max()"
   ]
  },
  {
   "cell_type": "code",
   "execution_count": null,
   "id": "59787b67",
   "metadata": {
    "papermill": {
     "duration": 0.008431,
     "end_time": "2025-06-07T11:56:11.227729",
     "exception": false,
     "start_time": "2025-06-07T11:56:11.219298",
     "status": "completed"
    },
    "tags": []
   },
   "outputs": [],
   "source": []
  }
 ],
 "metadata": {
  "kaggle": {
   "accelerator": "none",
   "dataSources": [
    {
     "datasetId": 7606241,
     "sourceId": 12082712,
     "sourceType": "datasetVersion"
    }
   ],
   "dockerImageVersionId": 31040,
   "isGpuEnabled": false,
   "isInternetEnabled": false,
   "language": "python",
   "sourceType": "notebook"
  },
  "kernelspec": {
   "display_name": "Python 3",
   "language": "python",
   "name": "python3"
  },
  "language_info": {
   "codemirror_mode": {
    "name": "ipython",
    "version": 3
   },
   "file_extension": ".py",
   "mimetype": "text/x-python",
   "name": "python",
   "nbconvert_exporter": "python",
   "pygments_lexer": "ipython3",
   "version": "3.11.11"
  },
  "papermill": {
   "default_parameters": {},
   "duration": 24.979288,
   "end_time": "2025-06-07T11:56:11.755072",
   "environment_variables": {},
   "exception": null,
   "input_path": "__notebook__.ipynb",
   "output_path": "__notebook__.ipynb",
   "parameters": {},
   "start_time": "2025-06-07T11:55:46.775784",
   "version": "2.6.0"
  }
 },
 "nbformat": 4,
 "nbformat_minor": 5
}
